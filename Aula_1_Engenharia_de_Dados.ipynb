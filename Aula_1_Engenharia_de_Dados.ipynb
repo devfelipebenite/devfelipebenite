{
  "nbformat": 4,
  "nbformat_minor": 0,
  "metadata": {
    "colab": {
      "provenance": [],
      "authorship_tag": "ABX9TyMJ/VHaL6yTFs+MShWtNrd1",
      "include_colab_link": true
    },
    "kernelspec": {
      "name": "python3",
      "display_name": "Python 3"
    },
    "language_info": {
      "name": "python"
    }
  },
  "cells": [
    {
      "cell_type": "markdown",
      "metadata": {
        "id": "view-in-github",
        "colab_type": "text"
      },
      "source": [
        "<a href=\"https://colab.research.google.com/github/devfelipebenite/devfelipebenite/blob/main/Aula_1_Engenharia_de_Dados.ipynb\" target=\"_parent\"><img src=\"https://colab.research.google.com/assets/colab-badge.svg\" alt=\"Open In Colab\"/></a>"
      ]
    },
    {
      "cell_type": "markdown",
      "source": [
        "#Extract"
      ],
      "metadata": {
        "id": "4fEyORQxMgOz"
      }
    },
    {
      "cell_type": "code",
      "source": [
        "pip install pyspark"
      ],
      "metadata": {
        "colab": {
          "base_uri": "https://localhost:8080/"
        },
        "id": "8F3DW6z5LSgp",
        "outputId": "d0f5a568-feda-4290-ee4f-20cf8e043853"
      },
      "execution_count": 20,
      "outputs": [
        {
          "output_type": "stream",
          "name": "stdout",
          "text": [
            "Collecting pyspark\n",
            "  Downloading pyspark-3.5.1.tar.gz (317.0 MB)\n",
            "\u001b[2K     \u001b[90m━━━━━━━━━━━━━━━━━━━━━━━━━━━━━━━━━━━━━━━━\u001b[0m \u001b[32m317.0/317.0 MB\u001b[0m \u001b[31m4.1 MB/s\u001b[0m eta \u001b[36m0:00:00\u001b[0m\n",
            "\u001b[?25h  Preparing metadata (setup.py) ... \u001b[?25l\u001b[?25hdone\n",
            "Requirement already satisfied: py4j==0.10.9.7 in /usr/local/lib/python3.10/dist-packages (from pyspark) (0.10.9.7)\n",
            "Building wheels for collected packages: pyspark\n",
            "  Building wheel for pyspark (setup.py) ... \u001b[?25l\u001b[?25hdone\n",
            "  Created wheel for pyspark: filename=pyspark-3.5.1-py2.py3-none-any.whl size=317488493 sha256=0a65747e2203ae0a56f9b7d6a1c2c610d7c54ceaaddcfd88dbdbc9c7ffe46dba\n",
            "  Stored in directory: /root/.cache/pip/wheels/80/1d/60/2c256ed38dddce2fdd93be545214a63e02fbd8d74fb0b7f3a6\n",
            "Successfully built pyspark\n",
            "Installing collected packages: pyspark\n",
            "Successfully installed pyspark-3.5.1\n"
          ]
        }
      ]
    },
    {
      "cell_type": "code",
      "execution_count": 21,
      "metadata": {
        "id": "Qz45VBA0HC7o"
      },
      "outputs": [],
      "source": [
        "import requests\n",
        "import io\n",
        "import pandas as pd\n",
        "from pyspark.sql import SparkSession"
      ]
    },
    {
      "cell_type": "code",
      "source": [
        "url = 'http://compras.dados.gov.br/servicos/v1/servicos.csv?descricao=educação'"
      ],
      "metadata": {
        "id": "sxrWdt9iIV7w"
      },
      "execution_count": 5,
      "outputs": []
    },
    {
      "cell_type": "code",
      "source": [
        "data = requests.get(url).content\n",
        "type(data)"
      ],
      "metadata": {
        "colab": {
          "base_uri": "https://localhost:8080/"
        },
        "id": "p418QgeOIpWk",
        "outputId": "c895a1ae-1b5c-4ac3-ec05-a6dc365ebfb7"
      },
      "execution_count": 9,
      "outputs": [
        {
          "output_type": "execute_result",
          "data": {
            "text/plain": [
              "bytes"
            ]
          },
          "metadata": {},
          "execution_count": 9
        }
      ]
    },
    {
      "cell_type": "code",
      "source": [
        "parse_data = io.StringIO(data.decode(\"UTF-8\"))\n",
        "parse_data"
      ],
      "metadata": {
        "colab": {
          "base_uri": "https://localhost:8080/"
        },
        "id": "Q5cQz3zUJKNU",
        "outputId": "21a1fcd9-58e3-46bc-bc72-96d90389a411"
      },
      "execution_count": 17,
      "outputs": [
        {
          "output_type": "execute_result",
          "data": {
            "text/plain": [
              "<_io.StringIO at 0x7b27d45cb880>"
            ]
          },
          "metadata": {},
          "execution_count": 17
        }
      ]
    },
    {
      "cell_type": "code",
      "source": [
        "df = pd.read_csv(parse_data)\n",
        "df.head()"
      ],
      "metadata": {
        "colab": {
          "base_uri": "https://localhost:8080/",
          "height": 390
        },
        "id": "3JL_pvH-Jp6O",
        "outputId": "14e8eede-b0f8-49e2-910d-57e30929dbbc"
      },
      "execution_count": 19,
      "outputs": [
        {
          "output_type": "execute_result",
          "data": {
            "text/plain": [
              "   Código                                          Descrição Unidade medida  \\\n",
              "0   14311  Orientação / Educação - Atividade Física      ...  UNHOMEM/H MÊS   \n",
              "1   15946  Serviço Penitenciário - Reeducação e Reabilita...             UN   \n",
              "2   18481  Consultoria e Assessoria - Educação           ...             UN   \n",
              "3   19321  Curso / Treinamento Educação - Distância      ...             UN   \n",
              "\n",
              "    CPC                                              Seção  \\\n",
              "0  9659  9: SERVIÇOS DA COMUNIDADE, PESSOAIS E SOCIAIS ...   \n",
              "1   979  9: SERVIÇOS DA COMUNIDADE, PESSOAIS E SOCIAIS ...   \n",
              "2  8319  8: SERVIÇOS DE ARQUITETURA, DESENHOS TÉCNICOS,...   \n",
              "3   929  9: SERVIÇOS DA COMUNIDADE, PESSOAIS E SOCIAIS ...   \n",
              "\n",
              "                                             Divisão  \\\n",
              "0  96: SERVIÇOS RECREACIONAIS, CULTURAIS E ESPORT...   \n",
              "1  97: OUTROS SERVIÇOS                           ...   \n",
              "2  83: OUTROS SERVIÇOS DE NEGÓCIOS, TÉCNICOS E PR...   \n",
              "3  92: SERVIÇOS DA INSTRUÇÃO/ EDUCAÇÃO/ ENSINO   ...   \n",
              "\n",
              "                                               Grupo  \\\n",
              "0  965: SERVIÇOS RELACIONADOS COM ESPORTES E SERV...   \n",
              "1  979: OUTROS SERVIÇOS DIVERSOS/MISCELÂNEA      ...   \n",
              "2  831: SERVIÇOS DE CONSULTORIA E DE GERÊNCIA/GES...   \n",
              "3  929: OUTROS SERVIÇOS DE EDUCAÇÃO E TREINAMENTO...   \n",
              "\n",
              "                                              Classe  Subclasse  \n",
              "0  9659: OUTROS ESPORTES E SERVIÇOS DE ESPORTES R...        NaN  \n",
              "1                                                NaN        NaN  \n",
              "2  8319: OUTROS SERVIÇOS DE GERÊNCIA/GESTÃO, EXCE...        NaN  \n",
              "3                                                NaN        NaN  "
            ],
            "text/html": [
              "\n",
              "  <div id=\"df-8259ae29-0aee-4fc0-97ac-b42c78bc1301\" class=\"colab-df-container\">\n",
              "    <div>\n",
              "<style scoped>\n",
              "    .dataframe tbody tr th:only-of-type {\n",
              "        vertical-align: middle;\n",
              "    }\n",
              "\n",
              "    .dataframe tbody tr th {\n",
              "        vertical-align: top;\n",
              "    }\n",
              "\n",
              "    .dataframe thead th {\n",
              "        text-align: right;\n",
              "    }\n",
              "</style>\n",
              "<table border=\"1\" class=\"dataframe\">\n",
              "  <thead>\n",
              "    <tr style=\"text-align: right;\">\n",
              "      <th></th>\n",
              "      <th>Código</th>\n",
              "      <th>Descrição</th>\n",
              "      <th>Unidade medida</th>\n",
              "      <th>CPC</th>\n",
              "      <th>Seção</th>\n",
              "      <th>Divisão</th>\n",
              "      <th>Grupo</th>\n",
              "      <th>Classe</th>\n",
              "      <th>Subclasse</th>\n",
              "    </tr>\n",
              "  </thead>\n",
              "  <tbody>\n",
              "    <tr>\n",
              "      <th>0</th>\n",
              "      <td>14311</td>\n",
              "      <td>Orientação / Educação - Atividade Física      ...</td>\n",
              "      <td>UNHOMEM/H MÊS</td>\n",
              "      <td>9659</td>\n",
              "      <td>9: SERVIÇOS DA COMUNIDADE, PESSOAIS E SOCIAIS ...</td>\n",
              "      <td>96: SERVIÇOS RECREACIONAIS, CULTURAIS E ESPORT...</td>\n",
              "      <td>965: SERVIÇOS RELACIONADOS COM ESPORTES E SERV...</td>\n",
              "      <td>9659: OUTROS ESPORTES E SERVIÇOS DE ESPORTES R...</td>\n",
              "      <td>NaN</td>\n",
              "    </tr>\n",
              "    <tr>\n",
              "      <th>1</th>\n",
              "      <td>15946</td>\n",
              "      <td>Serviço Penitenciário - Reeducação e Reabilita...</td>\n",
              "      <td>UN</td>\n",
              "      <td>979</td>\n",
              "      <td>9: SERVIÇOS DA COMUNIDADE, PESSOAIS E SOCIAIS ...</td>\n",
              "      <td>97: OUTROS SERVIÇOS                           ...</td>\n",
              "      <td>979: OUTROS SERVIÇOS DIVERSOS/MISCELÂNEA      ...</td>\n",
              "      <td>NaN</td>\n",
              "      <td>NaN</td>\n",
              "    </tr>\n",
              "    <tr>\n",
              "      <th>2</th>\n",
              "      <td>18481</td>\n",
              "      <td>Consultoria e Assessoria - Educação           ...</td>\n",
              "      <td>UN</td>\n",
              "      <td>8319</td>\n",
              "      <td>8: SERVIÇOS DE ARQUITETURA, DESENHOS TÉCNICOS,...</td>\n",
              "      <td>83: OUTROS SERVIÇOS DE NEGÓCIOS, TÉCNICOS E PR...</td>\n",
              "      <td>831: SERVIÇOS DE CONSULTORIA E DE GERÊNCIA/GES...</td>\n",
              "      <td>8319: OUTROS SERVIÇOS DE GERÊNCIA/GESTÃO, EXCE...</td>\n",
              "      <td>NaN</td>\n",
              "    </tr>\n",
              "    <tr>\n",
              "      <th>3</th>\n",
              "      <td>19321</td>\n",
              "      <td>Curso / Treinamento Educação - Distância      ...</td>\n",
              "      <td>UN</td>\n",
              "      <td>929</td>\n",
              "      <td>9: SERVIÇOS DA COMUNIDADE, PESSOAIS E SOCIAIS ...</td>\n",
              "      <td>92: SERVIÇOS DA INSTRUÇÃO/ EDUCAÇÃO/ ENSINO   ...</td>\n",
              "      <td>929: OUTROS SERVIÇOS DE EDUCAÇÃO E TREINAMENTO...</td>\n",
              "      <td>NaN</td>\n",
              "      <td>NaN</td>\n",
              "    </tr>\n",
              "  </tbody>\n",
              "</table>\n",
              "</div>\n",
              "    <div class=\"colab-df-buttons\">\n",
              "\n",
              "  <div class=\"colab-df-container\">\n",
              "    <button class=\"colab-df-convert\" onclick=\"convertToInteractive('df-8259ae29-0aee-4fc0-97ac-b42c78bc1301')\"\n",
              "            title=\"Convert this dataframe to an interactive table.\"\n",
              "            style=\"display:none;\">\n",
              "\n",
              "  <svg xmlns=\"http://www.w3.org/2000/svg\" height=\"24px\" viewBox=\"0 -960 960 960\">\n",
              "    <path d=\"M120-120v-720h720v720H120Zm60-500h600v-160H180v160Zm220 220h160v-160H400v160Zm0 220h160v-160H400v160ZM180-400h160v-160H180v160Zm440 0h160v-160H620v160ZM180-180h160v-160H180v160Zm440 0h160v-160H620v160Z\"/>\n",
              "  </svg>\n",
              "    </button>\n",
              "\n",
              "  <style>\n",
              "    .colab-df-container {\n",
              "      display:flex;\n",
              "      gap: 12px;\n",
              "    }\n",
              "\n",
              "    .colab-df-convert {\n",
              "      background-color: #E8F0FE;\n",
              "      border: none;\n",
              "      border-radius: 50%;\n",
              "      cursor: pointer;\n",
              "      display: none;\n",
              "      fill: #1967D2;\n",
              "      height: 32px;\n",
              "      padding: 0 0 0 0;\n",
              "      width: 32px;\n",
              "    }\n",
              "\n",
              "    .colab-df-convert:hover {\n",
              "      background-color: #E2EBFA;\n",
              "      box-shadow: 0px 1px 2px rgba(60, 64, 67, 0.3), 0px 1px 3px 1px rgba(60, 64, 67, 0.15);\n",
              "      fill: #174EA6;\n",
              "    }\n",
              "\n",
              "    .colab-df-buttons div {\n",
              "      margin-bottom: 4px;\n",
              "    }\n",
              "\n",
              "    [theme=dark] .colab-df-convert {\n",
              "      background-color: #3B4455;\n",
              "      fill: #D2E3FC;\n",
              "    }\n",
              "\n",
              "    [theme=dark] .colab-df-convert:hover {\n",
              "      background-color: #434B5C;\n",
              "      box-shadow: 0px 1px 3px 1px rgba(0, 0, 0, 0.15);\n",
              "      filter: drop-shadow(0px 1px 2px rgba(0, 0, 0, 0.3));\n",
              "      fill: #FFFFFF;\n",
              "    }\n",
              "  </style>\n",
              "\n",
              "    <script>\n",
              "      const buttonEl =\n",
              "        document.querySelector('#df-8259ae29-0aee-4fc0-97ac-b42c78bc1301 button.colab-df-convert');\n",
              "      buttonEl.style.display =\n",
              "        google.colab.kernel.accessAllowed ? 'block' : 'none';\n",
              "\n",
              "      async function convertToInteractive(key) {\n",
              "        const element = document.querySelector('#df-8259ae29-0aee-4fc0-97ac-b42c78bc1301');\n",
              "        const dataTable =\n",
              "          await google.colab.kernel.invokeFunction('convertToInteractive',\n",
              "                                                    [key], {});\n",
              "        if (!dataTable) return;\n",
              "\n",
              "        const docLinkHtml = 'Like what you see? Visit the ' +\n",
              "          '<a target=\"_blank\" href=https://colab.research.google.com/notebooks/data_table.ipynb>data table notebook</a>'\n",
              "          + ' to learn more about interactive tables.';\n",
              "        element.innerHTML = '';\n",
              "        dataTable['output_type'] = 'display_data';\n",
              "        await google.colab.output.renderOutput(dataTable, element);\n",
              "        const docLink = document.createElement('div');\n",
              "        docLink.innerHTML = docLinkHtml;\n",
              "        element.appendChild(docLink);\n",
              "      }\n",
              "    </script>\n",
              "  </div>\n",
              "\n",
              "\n",
              "<div id=\"df-a8637cb8-13db-43c6-8e2c-d906fa8d9b65\">\n",
              "  <button class=\"colab-df-quickchart\" onclick=\"quickchart('df-a8637cb8-13db-43c6-8e2c-d906fa8d9b65')\"\n",
              "            title=\"Suggest charts\"\n",
              "            style=\"display:none;\">\n",
              "\n",
              "<svg xmlns=\"http://www.w3.org/2000/svg\" height=\"24px\"viewBox=\"0 0 24 24\"\n",
              "     width=\"24px\">\n",
              "    <g>\n",
              "        <path d=\"M19 3H5c-1.1 0-2 .9-2 2v14c0 1.1.9 2 2 2h14c1.1 0 2-.9 2-2V5c0-1.1-.9-2-2-2zM9 17H7v-7h2v7zm4 0h-2V7h2v10zm4 0h-2v-4h2v4z\"/>\n",
              "    </g>\n",
              "</svg>\n",
              "  </button>\n",
              "\n",
              "<style>\n",
              "  .colab-df-quickchart {\n",
              "      --bg-color: #E8F0FE;\n",
              "      --fill-color: #1967D2;\n",
              "      --hover-bg-color: #E2EBFA;\n",
              "      --hover-fill-color: #174EA6;\n",
              "      --disabled-fill-color: #AAA;\n",
              "      --disabled-bg-color: #DDD;\n",
              "  }\n",
              "\n",
              "  [theme=dark] .colab-df-quickchart {\n",
              "      --bg-color: #3B4455;\n",
              "      --fill-color: #D2E3FC;\n",
              "      --hover-bg-color: #434B5C;\n",
              "      --hover-fill-color: #FFFFFF;\n",
              "      --disabled-bg-color: #3B4455;\n",
              "      --disabled-fill-color: #666;\n",
              "  }\n",
              "\n",
              "  .colab-df-quickchart {\n",
              "    background-color: var(--bg-color);\n",
              "    border: none;\n",
              "    border-radius: 50%;\n",
              "    cursor: pointer;\n",
              "    display: none;\n",
              "    fill: var(--fill-color);\n",
              "    height: 32px;\n",
              "    padding: 0;\n",
              "    width: 32px;\n",
              "  }\n",
              "\n",
              "  .colab-df-quickchart:hover {\n",
              "    background-color: var(--hover-bg-color);\n",
              "    box-shadow: 0 1px 2px rgba(60, 64, 67, 0.3), 0 1px 3px 1px rgba(60, 64, 67, 0.15);\n",
              "    fill: var(--button-hover-fill-color);\n",
              "  }\n",
              "\n",
              "  .colab-df-quickchart-complete:disabled,\n",
              "  .colab-df-quickchart-complete:disabled:hover {\n",
              "    background-color: var(--disabled-bg-color);\n",
              "    fill: var(--disabled-fill-color);\n",
              "    box-shadow: none;\n",
              "  }\n",
              "\n",
              "  .colab-df-spinner {\n",
              "    border: 2px solid var(--fill-color);\n",
              "    border-color: transparent;\n",
              "    border-bottom-color: var(--fill-color);\n",
              "    animation:\n",
              "      spin 1s steps(1) infinite;\n",
              "  }\n",
              "\n",
              "  @keyframes spin {\n",
              "    0% {\n",
              "      border-color: transparent;\n",
              "      border-bottom-color: var(--fill-color);\n",
              "      border-left-color: var(--fill-color);\n",
              "    }\n",
              "    20% {\n",
              "      border-color: transparent;\n",
              "      border-left-color: var(--fill-color);\n",
              "      border-top-color: var(--fill-color);\n",
              "    }\n",
              "    30% {\n",
              "      border-color: transparent;\n",
              "      border-left-color: var(--fill-color);\n",
              "      border-top-color: var(--fill-color);\n",
              "      border-right-color: var(--fill-color);\n",
              "    }\n",
              "    40% {\n",
              "      border-color: transparent;\n",
              "      border-right-color: var(--fill-color);\n",
              "      border-top-color: var(--fill-color);\n",
              "    }\n",
              "    60% {\n",
              "      border-color: transparent;\n",
              "      border-right-color: var(--fill-color);\n",
              "    }\n",
              "    80% {\n",
              "      border-color: transparent;\n",
              "      border-right-color: var(--fill-color);\n",
              "      border-bottom-color: var(--fill-color);\n",
              "    }\n",
              "    90% {\n",
              "      border-color: transparent;\n",
              "      border-bottom-color: var(--fill-color);\n",
              "    }\n",
              "  }\n",
              "</style>\n",
              "\n",
              "  <script>\n",
              "    async function quickchart(key) {\n",
              "      const quickchartButtonEl =\n",
              "        document.querySelector('#' + key + ' button');\n",
              "      quickchartButtonEl.disabled = true;  // To prevent multiple clicks.\n",
              "      quickchartButtonEl.classList.add('colab-df-spinner');\n",
              "      try {\n",
              "        const charts = await google.colab.kernel.invokeFunction(\n",
              "            'suggestCharts', [key], {});\n",
              "      } catch (error) {\n",
              "        console.error('Error during call to suggestCharts:', error);\n",
              "      }\n",
              "      quickchartButtonEl.classList.remove('colab-df-spinner');\n",
              "      quickchartButtonEl.classList.add('colab-df-quickchart-complete');\n",
              "    }\n",
              "    (() => {\n",
              "      let quickchartButtonEl =\n",
              "        document.querySelector('#df-a8637cb8-13db-43c6-8e2c-d906fa8d9b65 button');\n",
              "      quickchartButtonEl.style.display =\n",
              "        google.colab.kernel.accessAllowed ? 'block' : 'none';\n",
              "    })();\n",
              "  </script>\n",
              "</div>\n",
              "\n",
              "    </div>\n",
              "  </div>\n"
            ],
            "application/vnd.google.colaboratory.intrinsic+json": {
              "type": "dataframe",
              "variable_name": "df",
              "summary": "{\n  \"name\": \"df\",\n  \"rows\": 4,\n  \"fields\": [\n    {\n      \"column\": \"C\\u00f3digo\",\n      \"properties\": {\n        \"dtype\": \"number\",\n        \"std\": 2303,\n        \"min\": 14311,\n        \"max\": 19321,\n        \"num_unique_values\": 4,\n        \"samples\": [\n          15946,\n          19321,\n          14311\n        ],\n        \"semantic_type\": \"\",\n        \"description\": \"\"\n      }\n    },\n    {\n      \"column\": \"Descri\\u00e7\\u00e3o\",\n      \"properties\": {\n        \"dtype\": \"string\",\n        \"num_unique_values\": 4,\n        \"samples\": [\n          \"Servi\\u00e7o Penitenci\\u00e1rio - Reeduca\\u00e7\\u00e3o e Reabilita\\u00e7\\u00e3o de Apenado                                                            \",\n          \"Curso / Treinamento Educa\\u00e7\\u00e3o - Dist\\u00e2ncia                                                                                \",\n          \"Orienta\\u00e7\\u00e3o / Educa\\u00e7\\u00e3o - Atividade F\\u00edsica                                                                                \"\n        ],\n        \"semantic_type\": \"\",\n        \"description\": \"\"\n      }\n    },\n    {\n      \"column\": \"Unidade medida\",\n      \"properties\": {\n        \"dtype\": \"string\",\n        \"num_unique_values\": 2,\n        \"samples\": [\n          \"UN\",\n          \"UNHOMEM/H M\\u00caS\"\n        ],\n        \"semantic_type\": \"\",\n        \"description\": \"\"\n      }\n    },\n    {\n      \"column\": \"CPC\",\n      \"properties\": {\n        \"dtype\": \"number\",\n        \"std\": 4671,\n        \"min\": 929,\n        \"max\": 9659,\n        \"num_unique_values\": 4,\n        \"samples\": [\n          979,\n          929\n        ],\n        \"semantic_type\": \"\",\n        \"description\": \"\"\n      }\n    },\n    {\n      \"column\": \"Se\\u00e7\\u00e3o\",\n      \"properties\": {\n        \"dtype\": \"string\",\n        \"num_unique_values\": 2,\n        \"samples\": [\n          \"8: SERVI\\u00c7OS DE ARQUITETURA, DESENHOS T\\u00c9CNICOS, PESQUISA E DESENVOLVIMENTO, NEG\\u00d3CIO E PRODU\\u00c7\\u00c3O                              \",\n          \"9: SERVI\\u00c7OS DA COMUNIDADE, PESSOAIS E SOCIAIS E OUTROS SERVI\\u00c7OS                                                            \"\n        ],\n        \"semantic_type\": \"\",\n        \"description\": \"\"\n      }\n    },\n    {\n      \"column\": \"Divis\\u00e3o\",\n      \"properties\": {\n        \"dtype\": \"string\",\n        \"num_unique_values\": 4,\n        \"samples\": [\n          \"97: OUTROS SERVI\\u00c7OS                                                                                                         \",\n          \"92: SERVI\\u00c7OS DA INSTRU\\u00c7\\u00c3O/ EDUCA\\u00c7\\u00c3O/ ENSINO                                                                                 \"\n        ],\n        \"semantic_type\": \"\",\n        \"description\": \"\"\n      }\n    },\n    {\n      \"column\": \"Grupo\",\n      \"properties\": {\n        \"dtype\": \"string\",\n        \"num_unique_values\": 4,\n        \"samples\": [\n          \"979: OUTROS SERVI\\u00c7OS DIVERSOS/MISCEL\\u00c2NEA                                                                                     \",\n          \"929: OUTROS SERVI\\u00c7OS DE EDUCA\\u00c7\\u00c3O E TREINAMENTO                                                                               \"\n        ],\n        \"semantic_type\": \"\",\n        \"description\": \"\"\n      }\n    },\n    {\n      \"column\": \"Classe\",\n      \"properties\": {\n        \"dtype\": \"string\",\n        \"num_unique_values\": 2,\n        \"samples\": [\n          \"8319: OUTROS SERVI\\u00c7OS DE GER\\u00caNCIA/GEST\\u00c3O, EXCETO OS DE PROJETOS DECONSTRU\\u00c7\\u00c3O                                                  \",\n          \"9659: OUTROS ESPORTES E SERVI\\u00c7OS DE ESPORTES RECREATIVOS                                                                      \"\n        ],\n        \"semantic_type\": \"\",\n        \"description\": \"\"\n      }\n    },\n    {\n      \"column\": \"Subclasse\",\n      \"properties\": {\n        \"dtype\": \"number\",\n        \"std\": null,\n        \"min\": null,\n        \"max\": null,\n        \"num_unique_values\": 0,\n        \"samples\": [],\n        \"semantic_type\": \"\",\n        \"description\": \"\"\n      }\n    }\n  ]\n}"
            }
          },
          "metadata": {},
          "execution_count": 19
        }
      ]
    },
    {
      "cell_type": "code",
      "source": [
        "spark = SparkSession.builder.appName(\"Aula1\").getOrCreate()"
      ],
      "metadata": {
        "id": "W82iqdMOJqDN"
      },
      "execution_count": 22,
      "outputs": []
    },
    {
      "cell_type": "code",
      "source": [
        "type(df)"
      ],
      "metadata": {
        "colab": {
          "base_uri": "https://localhost:8080/",
          "height": 187
        },
        "id": "x9KfcpGSJqHj",
        "outputId": "585d79b6-6b8e-4d8b-8827-d8651ec4c65b"
      },
      "execution_count": 26,
      "outputs": [
        {
          "output_type": "execute_result",
          "data": {
            "text/plain": [
              "pyspark.sql.dataframe.DataFrame"
            ],
            "text/html": [
              "<div style=\"max-width:800px; border: 1px solid var(--colab-border-color);\"><style>\n",
              "      pre.function-repr-contents {\n",
              "        overflow-x: auto;\n",
              "        padding: 8px 12px;\n",
              "        max-height: 500px;\n",
              "      }\n",
              "\n",
              "      pre.function-repr-contents.function-repr-contents-collapsed {\n",
              "        cursor: pointer;\n",
              "        max-height: 100px;\n",
              "      }\n",
              "    </style>\n",
              "    <pre style=\"white-space: initial; background:\n",
              "         var(--colab-secondary-surface-color); padding: 8px 12px;\n",
              "         border-bottom: 1px solid var(--colab-border-color);\"><b>pyspark.sql.dataframe.DataFrame</b><br/>def __init__(jdf: JavaObject, sql_ctx: Union[&#x27;SQLContext&#x27;, &#x27;SparkSession&#x27;])</pre><pre class=\"function-repr-contents function-repr-contents-collapsed\" style=\"\"><a class=\"filepath\" style=\"display:none\" href=\"#\">/usr/local/lib/python3.10/dist-packages/pyspark/sql/dataframe.py</a>A distributed collection of data grouped into named columns.\n",
              "\n",
              ".. versionadded:: 1.3.0\n",
              "\n",
              ".. versionchanged:: 3.4.0\n",
              "    Supports Spark Connect.\n",
              "\n",
              "Examples\n",
              "--------\n",
              "A :class:`DataFrame` is equivalent to a relational table in Spark SQL,\n",
              "and can be created using various functions in :class:`SparkSession`:\n",
              "\n",
              "&gt;&gt;&gt; people = spark.createDataFrame([\n",
              "...     {&quot;deptId&quot;: 1, &quot;age&quot;: 40, &quot;name&quot;: &quot;Hyukjin Kwon&quot;, &quot;gender&quot;: &quot;M&quot;, &quot;salary&quot;: 50},\n",
              "...     {&quot;deptId&quot;: 1, &quot;age&quot;: 50, &quot;name&quot;: &quot;Takuya Ueshin&quot;, &quot;gender&quot;: &quot;M&quot;, &quot;salary&quot;: 100},\n",
              "...     {&quot;deptId&quot;: 2, &quot;age&quot;: 60, &quot;name&quot;: &quot;Xinrong Meng&quot;, &quot;gender&quot;: &quot;F&quot;, &quot;salary&quot;: 150},\n",
              "...     {&quot;deptId&quot;: 3, &quot;age&quot;: 20, &quot;name&quot;: &quot;Haejoon Lee&quot;, &quot;gender&quot;: &quot;M&quot;, &quot;salary&quot;: 200}\n",
              "... ])\n",
              "\n",
              "Once created, it can be manipulated using the various domain-specific-language\n",
              "(DSL) functions defined in: :class:`DataFrame`, :class:`Column`.\n",
              "\n",
              "To select a column from the :class:`DataFrame`, use the apply method:\n",
              "\n",
              "&gt;&gt;&gt; age_col = people.age\n",
              "\n",
              "A more concrete example:\n",
              "\n",
              "&gt;&gt;&gt; # To create DataFrame using SparkSession\n",
              "... department = spark.createDataFrame([\n",
              "...     {&quot;id&quot;: 1, &quot;name&quot;: &quot;PySpark&quot;},\n",
              "...     {&quot;id&quot;: 2, &quot;name&quot;: &quot;ML&quot;},\n",
              "...     {&quot;id&quot;: 3, &quot;name&quot;: &quot;Spark SQL&quot;}\n",
              "... ])\n",
              "\n",
              "&gt;&gt;&gt; people.filter(people.age &gt; 30).join(\n",
              "...     department, people.deptId == department.id).groupBy(\n",
              "...     department.name, &quot;gender&quot;).agg({&quot;salary&quot;: &quot;avg&quot;, &quot;age&quot;: &quot;max&quot;}).show()\n",
              "+-------+------+-----------+--------+\n",
              "|   name|gender|avg(salary)|max(age)|\n",
              "+-------+------+-----------+--------+\n",
              "|     ML|     F|      150.0|      60|\n",
              "|PySpark|     M|       75.0|      50|\n",
              "+-------+------+-----------+--------+\n",
              "\n",
              "Notes\n",
              "-----\n",
              "A DataFrame should only be created as described above. It should not be directly\n",
              "created via using the constructor.</pre>\n",
              "      <script>\n",
              "      if (google.colab.kernel.accessAllowed && google.colab.files && google.colab.files.view) {\n",
              "        for (const element of document.querySelectorAll('.filepath')) {\n",
              "          element.style.display = 'block'\n",
              "          element.onclick = (event) => {\n",
              "            event.preventDefault();\n",
              "            event.stopPropagation();\n",
              "            google.colab.files.view(element.textContent, 80);\n",
              "          };\n",
              "        }\n",
              "      }\n",
              "      for (const element of document.querySelectorAll('.function-repr-contents')) {\n",
              "        element.onclick = (event) => {\n",
              "          event.preventDefault();\n",
              "          event.stopPropagation();\n",
              "          element.classList.toggle('function-repr-contents-collapsed');\n",
              "        };\n",
              "      }\n",
              "      </script>\n",
              "      </div>"
            ]
          },
          "metadata": {},
          "execution_count": 26
        }
      ]
    },
    {
      "cell_type": "code",
      "source": [
        "df = spark.createDataFrame(df)"
      ],
      "metadata": {
        "id": "PCrvxgAWJqNi"
      },
      "execution_count": 25,
      "outputs": []
    },
    {
      "cell_type": "markdown",
      "source": [
        "#Transform"
      ],
      "metadata": {
        "id": "9lqz_imeMqRb"
      }
    },
    {
      "cell_type": "code",
      "source": [
        "df.printSchema()"
      ],
      "metadata": {
        "colab": {
          "base_uri": "https://localhost:8080/"
        },
        "id": "vbqmI1IdMUMV",
        "outputId": "d842acf7-3fef-4c17-f065-47284c3e8fae"
      },
      "execution_count": 27,
      "outputs": [
        {
          "output_type": "stream",
          "name": "stdout",
          "text": [
            "root\n",
            " |-- Código: long (nullable = true)\n",
            " |-- Descrição: string (nullable = true)\n",
            " |-- Unidade medida: string (nullable = true)\n",
            " |-- CPC: long (nullable = true)\n",
            " |-- Seção: string (nullable = true)\n",
            " |-- Divisão: string (nullable = true)\n",
            " |-- Grupo: string (nullable = true)\n",
            " |-- Classe: string (nullable = true)\n",
            " |-- Subclasse: double (nullable = true)\n",
            "\n"
          ]
        }
      ]
    },
    {
      "cell_type": "code",
      "source": [
        "df.show()"
      ],
      "metadata": {
        "colab": {
          "base_uri": "https://localhost:8080/"
        },
        "id": "cP2sIxgzNCrh",
        "outputId": "328cd874-5e8c-42f5-e4ff-6bb51f42cac3"
      },
      "execution_count": 28,
      "outputs": [
        {
          "output_type": "stream",
          "name": "stdout",
          "text": [
            "+------+--------------------+--------------+----+--------------------+--------------------+--------------------+--------------------+---------+\n",
            "|Código|           Descrição|Unidade medida| CPC|               Seção|             Divisão|               Grupo|              Classe|Subclasse|\n",
            "+------+--------------------+--------------+----+--------------------+--------------------+--------------------+--------------------+---------+\n",
            "| 14311|Orientação / Educ...| UNHOMEM/H MÊS|9659|9: SERVIÇOS DA CO...|96: SERVIÇOS RECR...|965: SERVIÇOS REL...|9659: OUTROS ESPO...|      NaN|\n",
            "| 15946|Serviço Penitenci...|            UN| 979|9: SERVIÇOS DA CO...|97: OUTROS SERVIÇ...|979: OUTROS SERVI...|                 NaN|      NaN|\n",
            "| 18481|Consultoria e Ass...|            UN|8319|8: SERVIÇOS DE AR...|83: OUTROS SERVIÇ...|831: SERVIÇOS DE ...|8319: OUTROS SERV...|      NaN|\n",
            "| 19321|Curso / Treinamen...|            UN| 929|9: SERVIÇOS DA CO...|92: SERVIÇOS DA I...|929: OUTROS SERVI...|                 NaN|      NaN|\n",
            "+------+--------------------+--------------+----+--------------------+--------------------+--------------------+--------------------+---------+\n",
            "\n"
          ]
        }
      ]
    },
    {
      "cell_type": "code",
      "source": [
        "df.columns"
      ],
      "metadata": {
        "colab": {
          "base_uri": "https://localhost:8080/"
        },
        "id": "n7lty_hDNC6h",
        "outputId": "4fd94488-be4f-475b-bbdc-c2f0b02623a6"
      },
      "execution_count": 31,
      "outputs": [
        {
          "output_type": "execute_result",
          "data": {
            "text/plain": [
              "['Codigo',\n",
              " 'Descricao',\n",
              " 'Unidade_medida',\n",
              " 'CPC',\n",
              " 'Secao',\n",
              " 'Divisao',\n",
              " 'Grupo',\n",
              " 'Classe',\n",
              " 'Subclasse']"
            ]
          },
          "metadata": {},
          "execution_count": 31
        }
      ]
    },
    {
      "cell_type": "code",
      "source": [
        "df = (df.withColumnRenamed(\"Código\", \"Codigo\")\n",
        ".withColumnRenamed(\"Descrição\", \"Descricao\")\n",
        ".withColumnRenamed(\"Unidade medida\", \"Unidade_medida\")\n",
        ".withColumnRenamed(\"Seção\", \"Secao\")\n",
        ".withColumnRenamed(\"Divisão\", \"Divisao\")\n",
        ")\n"
      ],
      "metadata": {
        "id": "matV8L8BNC2l"
      },
      "execution_count": 30,
      "outputs": []
    },
    {
      "cell_type": "code",
      "source": [
        "import pyspark.sql.functions as F"
      ],
      "metadata": {
        "id": "LQiaMw9RPhMb"
      },
      "execution_count": 33,
      "outputs": []
    },
    {
      "cell_type": "code",
      "source": [
        "df = df.select([x.lower() for x in df.columns])\n",
        "df.printSchema()"
      ],
      "metadata": {
        "colab": {
          "base_uri": "https://localhost:8080/"
        },
        "id": "Tx9oII_fNC88",
        "outputId": "0706e665-01a3-4b7e-f5ec-07399fe9f61e"
      },
      "execution_count": 34,
      "outputs": [
        {
          "output_type": "stream",
          "name": "stdout",
          "text": [
            "root\n",
            " |-- codigo: long (nullable = true)\n",
            " |-- descricao: string (nullable = true)\n",
            " |-- unidade_medida: string (nullable = true)\n",
            " |-- cpc: long (nullable = true)\n",
            " |-- secao: string (nullable = true)\n",
            " |-- divisao: string (nullable = true)\n",
            " |-- grupo: string (nullable = true)\n",
            " |-- classe: string (nullable = true)\n",
            " |-- subclasse: double (nullable = true)\n",
            "\n"
          ]
        }
      ]
    },
    {
      "cell_type": "code",
      "source": [
        "df.head()"
      ],
      "metadata": {
        "colab": {
          "base_uri": "https://localhost:8080/"
        },
        "id": "uwqcMgGENDAz",
        "outputId": "62859fd5-2dec-458c-915a-11260a07984b"
      },
      "execution_count": 35,
      "outputs": [
        {
          "output_type": "execute_result",
          "data": {
            "text/plain": [
              "Row(codigo=14311, descricao='Orientação / Educação - Atividade Física                                                                                ', unidade_medida='UNHOMEM/H MÊS', cpc=9659, secao='9: SERVIÇOS DA COMUNIDADE, PESSOAIS E SOCIAIS E OUTROS SERVIÇOS                                                            ', divisao='96: SERVIÇOS RECREACIONAIS, CULTURAIS E ESPORTIVOS                                                                          ', grupo='965: SERVIÇOS RELACIONADOS COM ESPORTES E SERVIÇOS RECREACIONAIS DO ESPORTE                                                  ', classe='9659: OUTROS ESPORTES E SERVIÇOS DE ESPORTES RECREATIVOS                                                                      ', subclasse=nan)"
            ]
          },
          "metadata": {},
          "execution_count": 35
        }
      ]
    },
    {
      "cell_type": "code",
      "source": [
        "from google.colab import drive"
      ],
      "metadata": {
        "id": "CuVtvDcwP8gB"
      },
      "execution_count": 36,
      "outputs": []
    },
    {
      "cell_type": "code",
      "source": [
        "drive.mount('/content/drive')"
      ],
      "metadata": {
        "colab": {
          "base_uri": "https://localhost:8080/"
        },
        "id": "mgJ9A9H-QOFO",
        "outputId": "6e90dcac-ad5b-406a-8110-b815e6d09dbb"
      },
      "execution_count": 37,
      "outputs": [
        {
          "output_type": "stream",
          "name": "stdout",
          "text": [
            "Mounted at /content/drive\n"
          ]
        }
      ]
    },
    {
      "cell_type": "code",
      "source": [
        "dir = \"/content/drive/MyDrive\""
      ],
      "metadata": {
        "id": "iMd4WmfDQj0c"
      },
      "execution_count": 38,
      "outputs": []
    },
    {
      "cell_type": "code",
      "source": [
        "df.write.mode(\"overwrite\").csv(f\"{dir}/compras.csv\")"
      ],
      "metadata": {
        "id": "hr9eL7nGQ3TY"
      },
      "execution_count": 41,
      "outputs": []
    },
    {
      "cell_type": "code",
      "source": [
        "import os"
      ],
      "metadata": {
        "id": "HBn9rIq8R1qi"
      },
      "execution_count": 42,
      "outputs": []
    },
    {
      "cell_type": "code",
      "source": [
        "print(spark.read.csv(\"/content/drive/MyDrive/compras.csv\").head())"
      ],
      "metadata": {
        "colab": {
          "base_uri": "https://localhost:8080/"
        },
        "id": "2OJoe2HiR4bC",
        "outputId": "ff22912e-836a-4828-b169-c7b64899deef"
      },
      "execution_count": 44,
      "outputs": [
        {
          "output_type": "stream",
          "name": "stdout",
          "text": [
            "Row(_c0='18481', _c1='Consultoria e Assessoria - Educação', _c2='UN', _c3='8319', _c4='8: SERVIÇOS DE ARQUITETURA, DESENHOS TÉCNICOS, PESQUISA E DESENVOLVIMENTO, NEGÓCIO E PRODUÇÃO', _c5='83: OUTROS SERVIÇOS DE NEGÓCIOS, TÉCNICOS E PROFISSIONAIS', _c6='831: SERVIÇOS DE CONSULTORIA E DE GERÊNCIA/GESTÃO', _c7='8319: OUTROS SERVIÇOS DE GERÊNCIA/GESTÃO, EXCETO OS DE PROJETOS DECONSTRUÇÃO', _c8='NaN')\n"
          ]
        }
      ]
    },
    {
      "cell_type": "markdown",
      "source": [
        "Extrair dados públicos de compras governamentais\n",
        "Tratar os dados\n",
        "Armazenar os dados em um arquivo"
      ],
      "metadata": {
        "id": "DiFCxpW2HeKf"
      }
    }
  ]
}